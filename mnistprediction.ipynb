{
 "cells": [
  {
   "cell_type": "code",
   "execution_count": 1,
   "metadata": {
    "_cell_guid": "b1076dfc-b9ad-4769-8c92-a6c4dae69d19",
    "_uuid": "8f2839f25d086af736a60e9eeb907d3b93b6e0e5"
   },
   "outputs": [
    {
     "data": {
      "text/html": [
       "<div>\n",
       "<style scoped>\n",
       "    .dataframe tbody tr th:only-of-type {\n",
       "        vertical-align: middle;\n",
       "    }\n",
       "\n",
       "    .dataframe tbody tr th {\n",
       "        vertical-align: top;\n",
       "    }\n",
       "\n",
       "    .dataframe thead th {\n",
       "        text-align: right;\n",
       "    }\n",
       "</style>\n",
       "<table border=\"1\" class=\"dataframe\">\n",
       "  <thead>\n",
       "    <tr style=\"text-align: right;\">\n",
       "      <th></th>\n",
       "      <th>5</th>\n",
       "      <th>0</th>\n",
       "      <th>0.1</th>\n",
       "      <th>0.2</th>\n",
       "      <th>0.3</th>\n",
       "      <th>0.4</th>\n",
       "      <th>0.5</th>\n",
       "      <th>0.6</th>\n",
       "      <th>0.7</th>\n",
       "      <th>0.8</th>\n",
       "      <th>...</th>\n",
       "      <th>0.608</th>\n",
       "      <th>0.609</th>\n",
       "      <th>0.610</th>\n",
       "      <th>0.611</th>\n",
       "      <th>0.612</th>\n",
       "      <th>0.613</th>\n",
       "      <th>0.614</th>\n",
       "      <th>0.615</th>\n",
       "      <th>0.616</th>\n",
       "      <th>0.617</th>\n",
       "    </tr>\n",
       "  </thead>\n",
       "  <tbody>\n",
       "    <tr>\n",
       "      <th>0</th>\n",
       "      <td>0</td>\n",
       "      <td>0</td>\n",
       "      <td>0</td>\n",
       "      <td>0</td>\n",
       "      <td>0</td>\n",
       "      <td>0</td>\n",
       "      <td>0</td>\n",
       "      <td>0</td>\n",
       "      <td>0</td>\n",
       "      <td>0</td>\n",
       "      <td>...</td>\n",
       "      <td>0</td>\n",
       "      <td>0</td>\n",
       "      <td>0</td>\n",
       "      <td>0</td>\n",
       "      <td>0</td>\n",
       "      <td>0</td>\n",
       "      <td>0</td>\n",
       "      <td>0</td>\n",
       "      <td>0</td>\n",
       "      <td>0</td>\n",
       "    </tr>\n",
       "    <tr>\n",
       "      <th>1</th>\n",
       "      <td>4</td>\n",
       "      <td>0</td>\n",
       "      <td>0</td>\n",
       "      <td>0</td>\n",
       "      <td>0</td>\n",
       "      <td>0</td>\n",
       "      <td>0</td>\n",
       "      <td>0</td>\n",
       "      <td>0</td>\n",
       "      <td>0</td>\n",
       "      <td>...</td>\n",
       "      <td>0</td>\n",
       "      <td>0</td>\n",
       "      <td>0</td>\n",
       "      <td>0</td>\n",
       "      <td>0</td>\n",
       "      <td>0</td>\n",
       "      <td>0</td>\n",
       "      <td>0</td>\n",
       "      <td>0</td>\n",
       "      <td>0</td>\n",
       "    </tr>\n",
       "    <tr>\n",
       "      <th>2</th>\n",
       "      <td>1</td>\n",
       "      <td>0</td>\n",
       "      <td>0</td>\n",
       "      <td>0</td>\n",
       "      <td>0</td>\n",
       "      <td>0</td>\n",
       "      <td>0</td>\n",
       "      <td>0</td>\n",
       "      <td>0</td>\n",
       "      <td>0</td>\n",
       "      <td>...</td>\n",
       "      <td>0</td>\n",
       "      <td>0</td>\n",
       "      <td>0</td>\n",
       "      <td>0</td>\n",
       "      <td>0</td>\n",
       "      <td>0</td>\n",
       "      <td>0</td>\n",
       "      <td>0</td>\n",
       "      <td>0</td>\n",
       "      <td>0</td>\n",
       "    </tr>\n",
       "    <tr>\n",
       "      <th>3</th>\n",
       "      <td>9</td>\n",
       "      <td>0</td>\n",
       "      <td>0</td>\n",
       "      <td>0</td>\n",
       "      <td>0</td>\n",
       "      <td>0</td>\n",
       "      <td>0</td>\n",
       "      <td>0</td>\n",
       "      <td>0</td>\n",
       "      <td>0</td>\n",
       "      <td>...</td>\n",
       "      <td>0</td>\n",
       "      <td>0</td>\n",
       "      <td>0</td>\n",
       "      <td>0</td>\n",
       "      <td>0</td>\n",
       "      <td>0</td>\n",
       "      <td>0</td>\n",
       "      <td>0</td>\n",
       "      <td>0</td>\n",
       "      <td>0</td>\n",
       "    </tr>\n",
       "    <tr>\n",
       "      <th>4</th>\n",
       "      <td>2</td>\n",
       "      <td>0</td>\n",
       "      <td>0</td>\n",
       "      <td>0</td>\n",
       "      <td>0</td>\n",
       "      <td>0</td>\n",
       "      <td>0</td>\n",
       "      <td>0</td>\n",
       "      <td>0</td>\n",
       "      <td>0</td>\n",
       "      <td>...</td>\n",
       "      <td>0</td>\n",
       "      <td>0</td>\n",
       "      <td>0</td>\n",
       "      <td>0</td>\n",
       "      <td>0</td>\n",
       "      <td>0</td>\n",
       "      <td>0</td>\n",
       "      <td>0</td>\n",
       "      <td>0</td>\n",
       "      <td>0</td>\n",
       "    </tr>\n",
       "    <tr>\n",
       "      <th>...</th>\n",
       "      <td>...</td>\n",
       "      <td>...</td>\n",
       "      <td>...</td>\n",
       "      <td>...</td>\n",
       "      <td>...</td>\n",
       "      <td>...</td>\n",
       "      <td>...</td>\n",
       "      <td>...</td>\n",
       "      <td>...</td>\n",
       "      <td>...</td>\n",
       "      <td>...</td>\n",
       "      <td>...</td>\n",
       "      <td>...</td>\n",
       "      <td>...</td>\n",
       "      <td>...</td>\n",
       "      <td>...</td>\n",
       "      <td>...</td>\n",
       "      <td>...</td>\n",
       "      <td>...</td>\n",
       "      <td>...</td>\n",
       "      <td>...</td>\n",
       "    </tr>\n",
       "    <tr>\n",
       "      <th>59994</th>\n",
       "      <td>8</td>\n",
       "      <td>0</td>\n",
       "      <td>0</td>\n",
       "      <td>0</td>\n",
       "      <td>0</td>\n",
       "      <td>0</td>\n",
       "      <td>0</td>\n",
       "      <td>0</td>\n",
       "      <td>0</td>\n",
       "      <td>0</td>\n",
       "      <td>...</td>\n",
       "      <td>0</td>\n",
       "      <td>0</td>\n",
       "      <td>0</td>\n",
       "      <td>0</td>\n",
       "      <td>0</td>\n",
       "      <td>0</td>\n",
       "      <td>0</td>\n",
       "      <td>0</td>\n",
       "      <td>0</td>\n",
       "      <td>0</td>\n",
       "    </tr>\n",
       "    <tr>\n",
       "      <th>59995</th>\n",
       "      <td>3</td>\n",
       "      <td>0</td>\n",
       "      <td>0</td>\n",
       "      <td>0</td>\n",
       "      <td>0</td>\n",
       "      <td>0</td>\n",
       "      <td>0</td>\n",
       "      <td>0</td>\n",
       "      <td>0</td>\n",
       "      <td>0</td>\n",
       "      <td>...</td>\n",
       "      <td>0</td>\n",
       "      <td>0</td>\n",
       "      <td>0</td>\n",
       "      <td>0</td>\n",
       "      <td>0</td>\n",
       "      <td>0</td>\n",
       "      <td>0</td>\n",
       "      <td>0</td>\n",
       "      <td>0</td>\n",
       "      <td>0</td>\n",
       "    </tr>\n",
       "    <tr>\n",
       "      <th>59996</th>\n",
       "      <td>5</td>\n",
       "      <td>0</td>\n",
       "      <td>0</td>\n",
       "      <td>0</td>\n",
       "      <td>0</td>\n",
       "      <td>0</td>\n",
       "      <td>0</td>\n",
       "      <td>0</td>\n",
       "      <td>0</td>\n",
       "      <td>0</td>\n",
       "      <td>...</td>\n",
       "      <td>0</td>\n",
       "      <td>0</td>\n",
       "      <td>0</td>\n",
       "      <td>0</td>\n",
       "      <td>0</td>\n",
       "      <td>0</td>\n",
       "      <td>0</td>\n",
       "      <td>0</td>\n",
       "      <td>0</td>\n",
       "      <td>0</td>\n",
       "    </tr>\n",
       "    <tr>\n",
       "      <th>59997</th>\n",
       "      <td>6</td>\n",
       "      <td>0</td>\n",
       "      <td>0</td>\n",
       "      <td>0</td>\n",
       "      <td>0</td>\n",
       "      <td>0</td>\n",
       "      <td>0</td>\n",
       "      <td>0</td>\n",
       "      <td>0</td>\n",
       "      <td>0</td>\n",
       "      <td>...</td>\n",
       "      <td>0</td>\n",
       "      <td>0</td>\n",
       "      <td>0</td>\n",
       "      <td>0</td>\n",
       "      <td>0</td>\n",
       "      <td>0</td>\n",
       "      <td>0</td>\n",
       "      <td>0</td>\n",
       "      <td>0</td>\n",
       "      <td>0</td>\n",
       "    </tr>\n",
       "    <tr>\n",
       "      <th>59998</th>\n",
       "      <td>8</td>\n",
       "      <td>0</td>\n",
       "      <td>0</td>\n",
       "      <td>0</td>\n",
       "      <td>0</td>\n",
       "      <td>0</td>\n",
       "      <td>0</td>\n",
       "      <td>0</td>\n",
       "      <td>0</td>\n",
       "      <td>0</td>\n",
       "      <td>...</td>\n",
       "      <td>0</td>\n",
       "      <td>0</td>\n",
       "      <td>0</td>\n",
       "      <td>0</td>\n",
       "      <td>0</td>\n",
       "      <td>0</td>\n",
       "      <td>0</td>\n",
       "      <td>0</td>\n",
       "      <td>0</td>\n",
       "      <td>0</td>\n",
       "    </tr>\n",
       "  </tbody>\n",
       "</table>\n",
       "<p>59999 rows × 785 columns</p>\n",
       "</div>"
      ],
      "text/plain": [
       "       5  0  0.1  0.2  0.3  0.4  0.5  0.6  0.7  0.8  ...  0.608  0.609  0.610  \\\n",
       "0      0  0    0    0    0    0    0    0    0    0  ...      0      0      0   \n",
       "1      4  0    0    0    0    0    0    0    0    0  ...      0      0      0   \n",
       "2      1  0    0    0    0    0    0    0    0    0  ...      0      0      0   \n",
       "3      9  0    0    0    0    0    0    0    0    0  ...      0      0      0   \n",
       "4      2  0    0    0    0    0    0    0    0    0  ...      0      0      0   \n",
       "...   .. ..  ...  ...  ...  ...  ...  ...  ...  ...  ...    ...    ...    ...   \n",
       "59994  8  0    0    0    0    0    0    0    0    0  ...      0      0      0   \n",
       "59995  3  0    0    0    0    0    0    0    0    0  ...      0      0      0   \n",
       "59996  5  0    0    0    0    0    0    0    0    0  ...      0      0      0   \n",
       "59997  6  0    0    0    0    0    0    0    0    0  ...      0      0      0   \n",
       "59998  8  0    0    0    0    0    0    0    0    0  ...      0      0      0   \n",
       "\n",
       "       0.611  0.612  0.613  0.614  0.615  0.616  0.617  \n",
       "0          0      0      0      0      0      0      0  \n",
       "1          0      0      0      0      0      0      0  \n",
       "2          0      0      0      0      0      0      0  \n",
       "3          0      0      0      0      0      0      0  \n",
       "4          0      0      0      0      0      0      0  \n",
       "...      ...    ...    ...    ...    ...    ...    ...  \n",
       "59994      0      0      0      0      0      0      0  \n",
       "59995      0      0      0      0      0      0      0  \n",
       "59996      0      0      0      0      0      0      0  \n",
       "59997      0      0      0      0      0      0      0  \n",
       "59998      0      0      0      0      0      0      0  \n",
       "\n",
       "[59999 rows x 785 columns]"
      ]
     },
     "execution_count": 1,
     "metadata": {},
     "output_type": "execute_result"
    }
   ],
   "source": [
    "import numpy as np\n",
    "import pandas as pd\n",
    "from matplotlib import pyplot as plt\n",
    "\n",
    "data = pd.read_csv('mnist.csv')\n",
    "data"
   ]
  },
  {
   "cell_type": "code",
   "execution_count": 2,
   "metadata": {},
   "outputs": [],
   "source": [
    "data = np.array(data)\n",
    "m, n = data.shape\n",
    "np.random.shuffle(data) \n",
    "\n",
    "data_dev = data[0:5000].T\n",
    "Y_dev = data_dev[0]\n",
    "X_dev = data_dev[1:n]\n",
    "X_dev = X_dev / 255.\n",
    "\n",
    "data_train = data[5000:m].T\n",
    "Y_train = data_train[0]\n",
    "X_train = data_train[1:n]\n",
    "X_train = X_train / 255.\n",
    "_,m_train = X_train.shape"
   ]
  },
  {
   "cell_type": "code",
   "execution_count": 3,
   "metadata": {},
   "outputs": [
    {
     "data": {
      "text/plain": [
       "array([2, 9, 3, ..., 0, 0, 3])"
      ]
     },
     "execution_count": 3,
     "metadata": {},
     "output_type": "execute_result"
    }
   ],
   "source": [
    "Y_train"
   ]
  },
  {
   "cell_type": "code",
   "execution_count": 4,
   "metadata": {},
   "outputs": [],
   "source": [
    "def init_params():\n",
    "    W1 = np.random.rand(10, 784) - 0.5\n",
    "    b1 = np.random.rand(10, 1) - 0.5\n",
    "    W2 = np.random.rand(10, 10) - 0.5\n",
    "    b2 = np.random.rand(10, 1) - 0.5\n",
    "    return W1, b1, W2, b2\n",
    "\n",
    "def ReLU(Z):\n",
    "    return np.maximum(Z, 0)\n",
    "\n",
    "def softmax(Z):\n",
    "    A = np.exp(Z) / sum(np.exp(Z))\n",
    "    return A\n",
    "    \n",
    "def forward_prop(W1, b1, W2, b2, X):\n",
    "    Z1 = W1.dot(X) + b1\n",
    "    A1 = ReLU(Z1)\n",
    "    Z2 = W2.dot(A1) + b2\n",
    "    A2 = softmax(Z2)\n",
    "    return Z1, A1, Z2, A2\n",
    "\n",
    "def ReLU_deriv(Z):\n",
    "    return Z > 0\n",
    "\n",
    "def one_hot(Y):\n",
    "    one_hot_Y = np.zeros((Y.size, Y.max() + 1))\n",
    "    one_hot_Y[np.arange(Y.size), Y] = 1\n",
    "    one_hot_Y = one_hot_Y.T\n",
    "    return one_hot_Y\n",
    "\n",
    "def backward_prop(Z1, A1, Z2, A2, W1, W2, X, Y):\n",
    "    one_hot_Y = one_hot(Y)\n",
    "    dZ2 = A2 - one_hot_Y\n",
    "    dW2 = 1 / m * dZ2.dot(A1.T)\n",
    "    db2 = 1 / m * np.sum(dZ2)\n",
    "    dZ1 = W2.T.dot(dZ2) * ReLU_deriv(Z1)\n",
    "    dW1 = 1 / m * dZ1.dot(X.T)\n",
    "    db1 = 1 / m * np.sum(dZ1)\n",
    "    return dW1, db1, dW2, db2\n",
    "\n",
    "def update_params(W1, b1, W2, b2, dW1, db1, dW2, db2, alpha):\n",
    "    W1 = W1 - alpha * dW1\n",
    "    b1 = b1 - alpha * db1    \n",
    "    W2 = W2 - alpha * dW2  \n",
    "    b2 = b2 - alpha * db2    \n",
    "    return W1, b1, W2, b2"
   ]
  },
  {
   "cell_type": "code",
   "execution_count": 5,
   "metadata": {},
   "outputs": [],
   "source": [
    "def get_predictions(A2):\n",
    "    return np.argmax(A2, 0)\n",
    "\n",
    "def get_accuracy(predictions, Y):\n",
    "    print(predictions, Y)\n",
    "    return np.sum(predictions == Y) / Y.size\n",
    "\n",
    "def gradient_descent(X, Y, alpha, iterations):\n",
    "    W1, b1, W2, b2 = init_params()\n",
    "    for i in range(iterations):\n",
    "        Z1, A1, Z2, A2 = forward_prop(W1, b1, W2, b2, X)\n",
    "        dW1, db1, dW2, db2 = backward_prop(Z1, A1, Z2, A2, W1, W2, X, Y)\n",
    "        W1, b1, W2, b2 = update_params(W1, b1, W2, b2, dW1, db1, dW2, db2, alpha)\n",
    "        if i % 10 == 0:\n",
    "            print(\"Iteration: \", i)\n",
    "            predictions = get_predictions(A2)\n",
    "            print(get_accuracy(predictions, Y))\n",
    "    return W1, b1, W2, b2"
   ]
  },
  {
   "cell_type": "code",
   "execution_count": 6,
   "metadata": {},
   "outputs": [
    {
     "name": "stdout",
     "output_type": "stream",
     "text": [
      "Iteration:  0\n",
      "[9 1 9 ... 9 1 9] [2 9 3 ... 0 0 3]\n",
      "0.06001927307769232\n",
      "Iteration:  10\n",
      "[0 1 0 ... 3 1 7] [2 9 3 ... 0 0 3]\n",
      "0.11480208731067838\n",
      "Iteration:  20\n",
      "[4 1 0 ... 0 1 7] [2 9 3 ... 0 0 3]\n",
      "0.14780268732158766\n",
      "Iteration:  30\n",
      "[4 1 0 ... 0 1 0] [2 9 3 ... 0 0 3]\n",
      "0.20038546155384643\n",
      "Iteration:  40\n",
      "[4 1 0 ... 0 1 0] [2 9 3 ... 0 0 3]\n",
      "0.23493154420989473\n",
      "Iteration:  50\n",
      "[4 1 0 ... 0 1 0] [2 9 3 ... 0 0 3]\n",
      "0.2729140529827815\n",
      "Iteration:  60\n",
      "[4 4 0 ... 0 1 0] [2 9 3 ... 0 0 3]\n",
      "0.31282386952490043\n",
      "Iteration:  70\n",
      "[4 4 0 ... 0 1 0] [2 9 3 ... 0 0 3]\n",
      "0.3506791032564228\n",
      "Iteration:  80\n",
      "[1 4 0 ... 0 1 0] [2 9 3 ... 0 0 3]\n",
      "0.3841342569864907\n",
      "Iteration:  90\n",
      "[1 4 0 ... 0 1 1] [2 9 3 ... 0 0 3]\n",
      "0.41208021964035707\n",
      "Iteration:  100\n",
      "[1 4 0 ... 4 1 1] [2 9 3 ... 0 0 3]\n",
      "0.44188076146839034\n",
      "Iteration:  110\n",
      "[3 4 0 ... 4 1 1] [2 9 3 ... 0 0 3]\n",
      "0.475754104620084\n",
      "Iteration:  120\n",
      "[3 4 0 ... 4 1 1] [2 9 3 ... 0 0 3]\n",
      "0.5059182894234441\n",
      "Iteration:  130\n",
      "[3 4 1 ... 0 1 1] [2 9 3 ... 0 0 3]\n",
      "0.5360824742268041\n",
      "Iteration:  140\n",
      "[3 4 1 ... 0 0 1] [2 9 3 ... 0 0 3]\n",
      "0.564846633575156\n",
      "Iteration:  150\n",
      "[3 5 1 ... 0 0 1] [2 9 3 ... 0 0 3]\n",
      "0.5897198130875106\n",
      "Iteration:  160\n",
      "[3 5 1 ... 0 0 1] [2 9 3 ... 0 0 3]\n",
      "0.6083565155730104\n",
      "Iteration:  170\n",
      "[3 5 1 ... 0 0 1] [2 9 3 ... 0 0 3]\n",
      "0.6256295569010346\n",
      "Iteration:  180\n",
      "[3 5 8 ... 0 0 1] [2 9 3 ... 0 0 3]\n",
      "0.6403389152530046\n",
      "Iteration:  190\n",
      "[3 5 8 ... 0 0 1] [2 9 3 ... 0 0 3]\n",
      "0.6553210058364698\n",
      "Iteration:  200\n",
      "[3 5 8 ... 0 0 3] [2 9 3 ... 0 0 3]\n",
      "0.6682121493118056\n",
      "Iteration:  210\n",
      "[3 5 8 ... 0 0 3] [2 9 3 ... 0 0 3]\n",
      "0.6805941926216841\n",
      "Iteration:  220\n",
      "[3 5 8 ... 0 0 3] [2 9 3 ... 0 0 3]\n",
      "0.6922853142784414\n",
      "Iteration:  230\n",
      "[3 5 8 ... 0 0 3] [2 9 3 ... 0 0 3]\n",
      "0.7039400716376661\n",
      "Iteration:  240\n",
      "[3 5 3 ... 0 0 3] [2 9 3 ... 0 0 3]\n",
      "0.7147402680048728\n",
      "Iteration:  250\n",
      "[3 5 3 ... 0 0 3] [2 9 3 ... 0 0 3]\n",
      "0.7239949817269405\n",
      "Iteration:  260\n",
      "[3 5 3 ... 0 0 3] [2 9 3 ... 0 0 3]\n",
      "0.7321951308205604\n",
      "Iteration:  270\n",
      "[3 5 3 ... 0 0 3] [2 9 3 ... 0 0 3]\n",
      "0.7404861906580119\n",
      "Iteration:  280\n",
      "[3 9 3 ... 0 0 3] [2 9 3 ... 0 0 3]\n",
      "0.7481226931398752\n",
      "Iteration:  290\n",
      "[3 9 3 ... 0 0 3] [2 9 3 ... 0 0 3]\n",
      "0.754340988017964\n",
      "Iteration:  300\n",
      "[3 9 3 ... 0 0 3] [2 9 3 ... 0 0 3]\n",
      "0.7601410934744268\n",
      "Iteration:  310\n",
      "[3 9 3 ... 0 0 3] [2 9 3 ... 0 0 3]\n",
      "0.765268459426535\n",
      "Iteration:  320\n",
      "[3 9 3 ... 0 0 3] [2 9 3 ... 0 0 3]\n",
      "0.7700503645520828\n",
      "Iteration:  330\n",
      "[3 9 3 ... 0 0 3] [2 9 3 ... 0 0 3]\n",
      "0.7749959090165276\n",
      "Iteration:  340\n",
      "[3 9 3 ... 0 0 3] [2 9 3 ... 0 0 3]\n",
      "0.7789959817451226\n",
      "Iteration:  350\n",
      "[3 9 3 ... 0 0 3] [2 9 3 ... 0 0 3]\n",
      "0.7824142257131947\n",
      "Iteration:  360\n",
      "[3 9 3 ... 0 0 3] [2 9 3 ... 0 0 3]\n",
      "0.7862870234004254\n",
      "Iteration:  370\n",
      "[3 9 3 ... 0 0 3] [2 9 3 ... 0 0 3]\n",
      "0.7899052710049274\n",
      "Iteration:  380\n",
      "[3 9 3 ... 0 0 3] [2 9 3 ... 0 0 3]\n",
      "0.7933416971217658\n",
      "Iteration:  390\n",
      "[3 9 3 ... 0 0 3] [2 9 3 ... 0 0 3]\n",
      "0.7965963017509409\n",
      "Iteration:  400\n",
      "[3 9 3 ... 0 0 3] [2 9 3 ... 0 0 3]\n",
      "0.7999963635702467\n",
      "Iteration:  410\n",
      "[3 9 3 ... 0 0 3] [2 9 3 ... 0 0 3]\n",
      "0.8027782323314969\n",
      "Iteration:  420\n",
      "[3 9 3 ... 0 0 3] [2 9 3 ... 0 0 3]\n",
      "0.805178275968654\n",
      "Iteration:  430\n",
      "[3 9 3 ... 0 0 3] [2 9 3 ... 0 0 3]\n",
      "0.807414680266914\n",
      "Iteration:  440\n",
      "[3 9 3 ... 0 0 3] [2 9 3 ... 0 0 3]\n",
      "0.8098147239040709\n",
      "Iteration:  450\n",
      "[3 9 3 ... 0 0 3] [2 9 3 ... 0 0 3]\n",
      "0.8121784032436954\n",
      "Iteration:  460\n",
      "[3 9 3 ... 0 0 3] [2 9 3 ... 0 0 3]\n",
      "0.8141602574592265\n",
      "Iteration:  470\n",
      "[3 9 3 ... 0 0 3] [2 9 3 ... 0 0 3]\n",
      "0.8163239331624211\n",
      "Iteration:  480\n",
      "[3 9 3 ... 0 0 3] [2 9 3 ... 0 0 3]\n",
      "0.8180876015927563\n",
      "Iteration:  490\n",
      "[3 9 3 ... 0 0 3] [2 9 3 ... 0 0 3]\n",
      "0.8202694594447172\n",
      "Iteration:  500\n",
      "[3 9 3 ... 0 0 3] [2 9 3 ... 0 0 3]\n",
      "0.8216876670484918\n",
      "Iteration:  510\n",
      "[3 9 3 ... 0 0 3] [2 9 3 ... 0 0 3]\n",
      "0.8231058746522664\n",
      "Iteration:  520\n",
      "[3 9 3 ... 0 0 3] [2 9 3 ... 0 0 3]\n",
      "0.8249240895289005\n",
      "Iteration:  530\n",
      "[3 9 3 ... 0 0 3] [2 9 3 ... 0 0 3]\n",
      "0.8266513936617029\n",
      "Iteration:  540\n",
      "[3 9 3 ... 0 0 3] [2 9 3 ... 0 0 3]\n",
      "0.8282150584556083\n",
      "Iteration:  550\n",
      "[3 9 3 ... 0 0 3] [2 9 3 ... 0 0 3]\n",
      "0.8294878088692522\n",
      "Iteration:  560\n",
      "[3 9 3 ... 0 0 3] [2 9 3 ... 0 0 3]\n",
      "0.8307241949853633\n",
      "Iteration:  570\n",
      "[3 9 3 ... 0 0 3] [2 9 3 ... 0 0 3]\n",
      "0.832306041928035\n",
      "Iteration:  580\n",
      "[3 9 3 ... 0 0 3] [2 9 3 ... 0 0 3]\n",
      "0.833796978126875\n",
      "Iteration:  590\n",
      "[2 9 3 ... 0 0 3] [2 9 3 ... 0 0 3]\n",
      "0.8349788177966873\n",
      "Iteration:  600\n",
      "[2 9 3 ... 0 0 3] [2 9 3 ... 0 0 3]\n",
      "0.8363606611029292\n",
      "Iteration:  610\n",
      "[2 9 3 ... 0 0 3] [2 9 3 ... 0 0 3]\n",
      "0.8375425007727413\n",
      "Iteration:  620\n",
      "[2 9 3 ... 0 0 3] [2 9 3 ... 0 0 3]\n",
      "0.8388334333351516\n",
      "Iteration:  630\n",
      "[2 9 3 ... 0 0 3] [2 9 3 ... 0 0 3]\n",
      "0.8399425444098984\n",
      "Iteration:  640\n",
      "[2 9 3 ... 0 0 3] [2 9 3 ... 0 0 3]\n",
      "0.8409425625920471\n",
      "Iteration:  650\n",
      "[2 9 3 ... 0 0 3] [2 9 3 ... 0 0 3]\n",
      "0.8419062164766632\n",
      "Iteration:  660\n",
      "[2 9 3 ... 0 0 3] [2 9 3 ... 0 0 3]\n",
      "0.8427971417662139\n",
      "Iteration:  670\n",
      "[2 9 3 ... 0 0 3] [2 9 3 ... 0 0 3]\n",
      "0.8437244313532973\n",
      "Iteration:  680\n",
      "[2 9 3 ... 0 0 3] [2 9 3 ... 0 0 3]\n",
      "0.8447608138329787\n",
      "Iteration:  690\n",
      "[2 9 3 ... 0 0 3] [2 9 3 ... 0 0 3]\n",
      "0.8456153748249968\n",
      "Iteration:  700\n",
      "[2 9 3 ... 0 0 3] [2 9 3 ... 0 0 3]\n",
      "0.8467244858997436\n"
     ]
    }
   ],
   "source": [
    "W1,b1,W2,b2 = gradient_descent(X_train,Y_train,0.1,701)"
   ]
  },
  {
   "cell_type": "code",
   "execution_count": 7,
   "metadata": {},
   "outputs": [],
   "source": [
    "def make_predictions(X, W1, b1, W2, b2):\n",
    "    _, _, _, A2 = forward_prop(W1, b1, W2, b2, X)\n",
    "    predictions = get_predictions(A2)\n",
    "    return predictions\n",
    "\n",
    "def test_prediction(index, W1, b1, W2, b2):\n",
    "    current_image = X_train[:, index, None]\n",
    "    prediction = make_predictions(X_train[:, index, None], W1, b1, W2, b2)\n",
    "    label = Y_train[index]\n",
    "    print(\"Prediction: \", prediction)\n",
    "    print(\"Label: \", label)\n",
    "    \n",
    "    current_image = current_image.reshape((28, 28)) * 255\n",
    "    plt.gray()\n",
    "    plt.imshow(current_image, interpolation='nearest')\n",
    "    plt.show()"
   ]
  },
  {
   "cell_type": "code",
   "execution_count": 8,
   "metadata": {},
   "outputs": [
    {
     "name": "stdout",
     "output_type": "stream",
     "text": [
      "Prediction:  [2]\n",
      "Label:  2\n"
     ]
    },
    {
     "data": {
      "image/png": "[encoded data removed]",
      "text/plain": [
       "<Figure size 640x480 with 1 Axes>"
      ]
     },
     "metadata": {},
     "output_type": "display_data"
    },
    {
     "name": "stdout",
     "output_type": "stream",
     "text": [
      "Prediction:  [9]\n",
      "Label:  9\n"
     ]
    },
    {
     "data": {
      "image/png": "[encoded data removed]",
      "text/plain": [
       "<Figure size 640x480 with 1 Axes>"
      ]
     },
     "metadata": {},
     "output_type": "display_data"
    },
    {
     "name": "stdout",
     "output_type": "stream",
     "text": [
      "Prediction:  [3]\n",
      "Label:  3\n"
     ]
    },
    {
     "data": {
      "image/png": "[encoded data removed]",
      "text/plain": [
       "<Figure size 640x480 with 1 Axes>"
      ]
     },
     "metadata": {},
     "output_type": "display_data"
    },
    {
     "name": "stdout",
     "output_type": "stream",
     "text": [
      "Prediction:  [3]\n",
      "Label:  3\n"
     ]
    },
    {
     "data": {
      "image/png": "[encoded data removed]",
      "text/plain": [
       "<Figure size 640x480 with 1 Axes>"
      ]
     },
     "metadata": {},
     "output_type": "display_data"
    },
    {
     "name": "stdout",
     "output_type": "stream",
     "text": [
      "Prediction:  [4]\n",
      "Label:  4\n"
     ]
    },
    {
     "data": {
      "image/png": "[encoded data removed]",
      "text/plain": [
       "<Figure size 640x480 with 1 Axes>"
      ]
     },
     "metadata": {},
     "output_type": "display_data"
    },
    {
     "name": "stdout",
     "output_type": "stream",
     "text": [
      "Prediction:  [7]\n",
      "Label:  7\n"
     ]
    },
    {
     "data": {
      "image/png": "[encoded data removed]",
      "text/plain": [
       "<Figure size 640x480 with 1 Axes>"
      ]
     },
     "metadata": {},
     "output_type": "display_data"
    },
    {
     "name": "stdout",
     "output_type": "stream",
     "text": [
      "Prediction:  [4]\n",
      "Label:  4\n"
     ]
    },
    {
     "data": {
      "image/png": "[encoded data removed]",
      "text/plain": [
       "<Figure size 640x480 with 1 Axes>"
      ]
     },
     "metadata": {},
     "output_type": "display_data"
    },
    {
     "name": "stdout",
     "output_type": "stream",
     "text": [
      "Prediction:  [1]\n",
      "Label:  1\n"
     ]
    },
    {
     "data": {
      "image/png": "[encoded data removed]",
      "text/plain": [
       "<Figure size 640x480 with 1 Axes>"
      ]
     },
     "metadata": {},
     "output_type": "display_data"
    },
    {
     "name": "stdout",
     "output_type": "stream",
     "text": [
      "Prediction:  [5]\n",
      "Label:  5\n"
     ]
    },
    {
     "data": {
      "image/png": "[encoded data removed]",
      "text/plain": [
       "<Figure size 640x480 with 1 Axes>"
      ]
     },
     "metadata": {},
     "output_type": "display_data"
    },
    {
     "name": "stdout",
     "output_type": "stream",
     "text": [
      "Prediction:  [1]\n",
      "Label:  1\n"
     ]
    },
    {
     "data": {
      "image/png": "[encoded data removed]",
      "text/plain": [
       "<Figure size 640x480 with 1 Axes>"
      ]
     },
     "metadata": {},
     "output_type": "display_data"
    },
    {
     "name": "stdout",
     "output_type": "stream",
     "text": [
      "Prediction:  [3]\n",
      "Label:  1\n"
     ]
    },
    {
     "data": {
      "image/png": "[encoded data removed]",
      "text/plain": [
       "<Figure size 640x480 with 1 Axes>"
      ]
     },
     "metadata": {},
     "output_type": "display_data"
    },
    {
     "name": "stdout",
     "output_type": "stream",
     "text": [
      "Prediction:  [3]\n",
      "Label:  3\n"
     ]
    },
    {
     "data": {
      "image/png": "[encoded data removed]",
      "text/plain": [
       "<Figure size 640x480 with 1 Axes>"
      ]
     },
     "metadata": {},
     "output_type": "display_data"
    },
    {
     "name": "stdout",
     "output_type": "stream",
     "text": [
      "Prediction:  [8]\n",
      "Label:  5\n"
     ]
    },
    {
     "data": {
      "image/png": "[encoded data removed]",
      "text/plain": [
       "<Figure size 640x480 with 1 Axes>"
      ]
     },
     "metadata": {},
     "output_type": "display_data"
    },
    {
     "name": "stdout",
     "output_type": "stream",
     "text": [
      "Prediction:  [8]\n",
      "Label:  8\n"
     ]
    },
    {
     "data": {
      "image/png": "[encoded data removed]",
      "text/plain": [
       "<Figure size 640x480 with 1 Axes>"
      ]
     },
     "metadata": {},
     "output_type": "display_data"
    },
    {
     "name": "stdout",
     "output_type": "stream",
     "text": [
      "Prediction:  [2]\n",
      "Label:  2\n"
     ]
    },
    {
     "data": {
      "image/png": "[encoded data removed]",
      "text/plain": [
       "<Figure size 640x480 with 1 Axes>"
      ]
     },
     "metadata": {},
     "output_type": "display_data"
    }
   ],
   "source": [
    "for i in range(15):\n",
    "    test_prediction(i, W1, b1, W2, b2)"
   ]
  },
  {
   "cell_type": "code",
   "execution_count": 9,
   "metadata": {},
   "outputs": [
    {
     "name": "stdout",
     "output_type": "stream",
     "text": [
      "[7 1 2 ... 8 0 3] [7 1 2 ... 8 0 3]\n"
     ]
    },
    {
     "data": {
      "text/plain": [
       "0.8418"
      ]
     },
     "execution_count": 9,
     "metadata": {},
     "output_type": "execute_result"
    }
   ],
   "source": [
    "dev_predictions = make_predictions(X_dev, W1, b1, W2, b2)\n",
    "get_accuracy(dev_predictions, Y_dev)"
   ]
  }
 ],
 "metadata": {
  "kaggle": {
   "accelerator": "none",
   "dataSources": [
    {
     "databundleVersionId": 861823,
     "sourceId": 3004,
     "sourceType": "competition"
    }
   ],
   "dockerImageVersionId": 30035,
   "isGpuEnabled": false,
   "isInternetEnabled": false,
   "language": "python",
   "sourceType": "notebook"
  },
  "kernelspec": {
   "display_name": "Python 3 (ipykernel)",
   "language": "python",
   "name": "python3"
  },
  "language_info": {
   "codemirror_mode": {
    "name": "ipython",
    "version": 3
   },
   "file_extension": ".py",
   "mimetype": "text/x-python",
   "name": "python",
   "nbconvert_exporter": "python",
   "pygments_lexer": "ipython3",
   "version": "3.11.5"
  }
 },
 "nbformat": 4,
 "nbformat_minor": 4
}
